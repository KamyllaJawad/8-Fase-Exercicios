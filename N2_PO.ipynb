{
  "nbformat": 4,
  "nbformat_minor": 0,
  "metadata": {
    "colab": {
      "provenance": [],
      "toc_visible": true,
      "authorship_tag": "ABX9TyMDJMC4Dgo/i2c30fU3syjL",
      "include_colab_link": true
    },
    "kernelspec": {
      "name": "python3",
      "display_name": "Python 3"
    },
    "language_info": {
      "name": "python"
    }
  },
  "cells": [
    {
      "cell_type": "markdown",
      "metadata": {
        "id": "view-in-github",
        "colab_type": "text"
      },
      "source": [
        "<a href=\"https://colab.research.google.com/github/KamyllaJawad/8-Fase-Exercicios/blob/master/N2_PO.ipynb\" target=\"_parent\"><img src=\"https://colab.research.google.com/assets/colab-badge.svg\" alt=\"Open In Colab\"/></a>"
      ]
    },
    {
      "cell_type": "markdown",
      "source": [
        "# Problema Identificado:\n",
        "\n",
        "A empresa Khalel de tecido é uma grande fabricante de roupas e tecidos de alta qualidade. Para **maximizar** seus lucros e atender às demandas do mercado, a empresa precisa tomar decisões estratégicas importantes. Para isso, ela usa contratou um consultor de pesquisa operacional para otimizar sua produção e alocar seus recursos de forma eficiente.\n",
        "\n",
        "A empresa possui máquinas de tecelagem e costura, e possui níveis de qualidade de produção sendo, tecidos de alta qualidade, roupas de alta qualidade e roupas de baixa qualidade. Porém a empresa tem algumas questões que podem restringir sua produção:\n",
        "\n",
        "* A empresa só tem 12 máquinas de tecelagem disponívei\n",
        "* A empresa só tem 6 máquinas de costura disponíveis \n",
        "* A produção de tecidos de alta qualidade requer pelo menos 2 máquinas de tecelagem\n",
        "* A produção de roupas de alta qualidade requer pelo menos 2 máquina de costura\n",
        "* A produção de roupas de baixa qualidade requer pelo menos 1 máquina de costura \n",
        "* A capacidade total de produção da empresa é de 100 unidades\n",
        "\n",
        "A empresa Khalel tem o lucro de venda de cada unidade de tecido de alta qualidade por RS 100,00, cada unidade de roupa de alta qualidade por RS 200,00 e cada unidade de roupa de baixa qualidade por RS 50,00."
      ],
      "metadata": {
        "id": "3akzIPtpeQ-W"
      }
    },
    {
      "cell_type": "code",
      "source": [
        "#Instalação da biblioteca pulp \n",
        "!pip install pulp\n",
        "!pip install matplotlib\n",
        "import pulp\n",
        "import numpy as np\n",
        "import matplotlib.pyplot as plt"
      ],
      "metadata": {
        "colab": {
          "base_uri": "https://localhost:8080/"
        },
        "id": "UnT9vSFdGplF",
        "outputId": "59857669-f862-4d14-8f09-6d9067252bf1"
      },
      "execution_count": 23,
      "outputs": [
        {
          "output_type": "stream",
          "name": "stdout",
          "text": [
            "Looking in indexes: https://pypi.org/simple, https://us-python.pkg.dev/colab-wheels/public/simple/\n",
            "Requirement already satisfied: pulp in /usr/local/lib/python3.10/dist-packages (2.7.0)\n",
            "Looking in indexes: https://pypi.org/simple, https://us-python.pkg.dev/colab-wheels/public/simple/\n",
            "Requirement already satisfied: matplotlib in /usr/local/lib/python3.10/dist-packages (3.7.1)\n",
            "Requirement already satisfied: fonttools>=4.22.0 in /usr/local/lib/python3.10/dist-packages (from matplotlib) (4.39.3)\n",
            "Requirement already satisfied: python-dateutil>=2.7 in /usr/local/lib/python3.10/dist-packages (from matplotlib) (2.8.2)\n",
            "Requirement already satisfied: packaging>=20.0 in /usr/local/lib/python3.10/dist-packages (from matplotlib) (23.1)\n",
            "Requirement already satisfied: pillow>=6.2.0 in /usr/local/lib/python3.10/dist-packages (from matplotlib) (8.4.0)\n",
            "Requirement already satisfied: pyparsing>=2.3.1 in /usr/local/lib/python3.10/dist-packages (from matplotlib) (3.0.9)\n",
            "Requirement already satisfied: kiwisolver>=1.0.1 in /usr/local/lib/python3.10/dist-packages (from matplotlib) (1.4.4)\n",
            "Requirement already satisfied: contourpy>=1.0.1 in /usr/local/lib/python3.10/dist-packages (from matplotlib) (1.0.7)\n",
            "Requirement already satisfied: numpy>=1.20 in /usr/local/lib/python3.10/dist-packages (from matplotlib) (1.22.4)\n",
            "Requirement already satisfied: cycler>=0.10 in /usr/local/lib/python3.10/dist-packages (from matplotlib) (0.11.0)\n",
            "Requirement already satisfied: six>=1.5 in /usr/local/lib/python3.10/dist-packages (from python-dateutil>=2.7->matplotlib) (1.16.0)\n"
          ]
        }
      ]
    },
    {
      "cell_type": "code",
      "source": [
        "# Criação do modelo\n",
        "model = pulp.LpProblem('Maximização de Lucros', pulp.LpMaximize)\n",
        "\n",
        "# Criação das variáveis de decisão\n",
        "x1 = pulp.LpVariable('Máquinas de Tecelagem', lowBound=0, upBound=12, cat='Integer')\n",
        "x2 = pulp.LpVariable('Máquinas de Costura', lowBound=0, upBound=6, cat='Integer')\n",
        "x3 = pulp.LpVariable('Tecidos de Alta Qualidade', lowBound=0, cat='Integer')\n",
        "x4 = pulp.LpVariable('Roupas de Alta Qualidade', lowBound=0, cat='Integer')\n",
        "x5 = pulp.LpVariable('Roupas de Baixa Qualidade', lowBound=0, cat='Integer')\n",
        "\n",
        "# Definição da função objetivo\n",
        "model += 100*x3 + 200*x4 + 50*x5, 'Função Objetivo'\n",
        "\n",
        "# Definição das restrições\n",
        "model += x1 >= 2*x3, 'Tecidos de Alta Qualidade'\n",
        "model += x2 >= 2*x4, 'Roupas de Alta Qualidade'\n",
        "model += x2 >= x5, 'Roupas de Baixa Qualidade'\n",
        "model += x3 + x4 + x5 <= 100, 'Capacidade de Produção'\n",
        "model += x1 <= 12, 'Máquinas de Tecelagem'\n",
        "model += x2 <= 6, 'Máquinas de Costura'\n",
        "\n",
        "# Resolução do modelo\n",
        "status = model.solve()\n",
        "\n",
        "if status == pulp.LpStatusOptimal:\n",
        "\n",
        "  # Impressão do resultado\n",
        "  print('Solução ótima encontrada!')\n",
        "  print('Lucro total: R$', pulp.value(model.objective))\n",
        "  print('Máquinas de Tecelagem:', pulp.value(x1))\n",
        "  print('Máquinas de Costura:', pulp.value(x2))\n",
        "  print('Tecidos de Alta Qualidade:', pulp.value(x3))\n",
        "  print('Roupas de Alta Qualidade:', pulp.value(x4))\n",
        "  print('Roupas de Baixa Qualidade:', pulp.value(x5))\n",
        "\n",
        "else:\n",
        "    print(\"Não foi possível encontrar a solução ótima.\")"
      ],
      "metadata": {
        "colab": {
          "base_uri": "https://localhost:8080/"
        },
        "id": "4n28gYjOHwP7",
        "outputId": "4a9feff8-047a-49ce-e1b6-52e5f2b0def0"
      },
      "execution_count": 43,
      "outputs": [
        {
          "output_type": "stream",
          "name": "stdout",
          "text": [
            "Solução ótima encontrada!\n",
            "Lucro total: R$ 1500.0\n",
            "Máquinas de Tecelagem: 12.0\n",
            "Máquinas de Costura: 6.0\n",
            "Tecidos de Alta Qualidade: 6.0\n",
            "Roupas de Alta Qualidade: 3.0\n",
            "Roupas de Baixa Qualidade: 6.0\n"
          ]
        }
      ]
    },
    {
      "cell_type": "markdown",
      "source": [
        "Podemos verificar com esses dados qual produto será mais produzido a partir de um gráfico:"
      ],
      "metadata": {
        "id": "I_2SXPmTBhnf"
      }
    },
    {
      "cell_type": "code",
      "source": [
        "# Cálculo dos lucros por tipo de produto\n",
        "lucro_tecidos = pulp.value(x3) * 100\n",
        "lucro_roupas_alta = pulp.value(x4) * 200\n",
        "lucro_roupas_baixa = pulp.value(x5) * 50\n",
        "\n",
        "# Dados para o gráfico\n",
        "labels = ['Tcs Alta Qualidade', 'Roupas Alta Qld', 'Roupas Baixa Qld']\n",
        "valores = [lucro_tecidos, lucro_roupas_alta, lucro_roupas_baixa]\n",
        "\n",
        "# Configurações do gráfico\n",
        "plt.bar(labels, valores)\n",
        "plt.title('Lucro por tipo de produto')\n",
        "plt.xlabel('Tipo de produto')\n",
        "plt.ylabel('Lucro (R$)')\n",
        "\n",
        "# Exibir gráfico\n",
        "plt.show()"
      ],
      "metadata": {
        "colab": {
          "base_uri": "https://localhost:8080/",
          "height": 472
        },
        "id": "0ImjfDJrJHXU",
        "outputId": "afb85be4-b418-4144-c83f-f238bd4fd42b"
      },
      "execution_count": 36,
      "outputs": [
        {
          "output_type": "display_data",
          "data": {
            "text/plain": [
              "<Figure size 640x480 with 1 Axes>"
            ],
            "image/png": "[encoded data removed]"
          },
          "metadata": {}
        }
      ]
    }
  ]
}