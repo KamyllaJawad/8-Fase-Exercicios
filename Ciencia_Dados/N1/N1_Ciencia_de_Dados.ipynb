{
  "nbformat": 4,
  "nbformat_minor": 0,
  "metadata": {
    "colab": {
      "provenance": [],
      "toc_visible": true
    },
    "kernelspec": {
      "name": "python3",
      "display_name": "Python 3"
    },
    "language_info": {
      "name": "python"
    }
  },
  "cells": [
    {
      "cell_type": "markdown",
      "source": [
        "#Dados de Suicídio no Brasil 2014 a 2018\n",
        "\n",
        "Os dados fornecidos no conjunto de dados \"Dados de suicídio no Brasil (2014-2018)\" apresentam informações sobre o número de suicídios registrados no Brasil entre os anos de 2014 e 2018, desagregados por estado, sexo, faixa etária e raça/cor.\n",
        "\n",
        "Esses dados são informativos para profissionais da saúde, pesquisadores e autoridades governamentais que buscam entender e abordar o problema do suicídio no Brasil. A análise exploratória desses dados pode ajudar a identificar tendências e padrões em relação ao perfil das pessoas que cometem suicídio e os fatores associados a esse comportamento, o que pode contribuir para o desenvolvimento de políticas públicas e estratégias de prevenção.\n",
        "\n",
        "\n",
        "*Fonte: https://www.kaggle.com/datasets/psicodata/dados-de-suicdio-no-brasil-2014-a-2018?resource=download*"
      ],
      "metadata": {
        "id": "5rBPEE1pvVJ5"
      }
    },
    {
      "cell_type": "code",
      "execution_count": 19,
      "metadata": {
        "id": "mvfYkayxKrps"
      },
      "outputs": [],
      "source": [
        "import pandas as pd\n",
        "import seaborn as sns\n",
        "import numpy as np\n",
        "import matplotlib.pyplot as plt"
      ]
    },
    {
      "cell_type": "code",
      "source": [
        "from google.colab import drive\n",
        "drive.mount('/content/drive')"
      ],
      "metadata": {
        "id": "f_NzyaKbvs58"
      },
      "execution_count": null,
      "outputs": []
    },
    {
      "cell_type": "code",
      "source": [
        "df = pd.read_csv('/content/drive/MyDrive/Colab Notebooks/datasus_suicidio_2014_2018.csv', sep=',', encoding='latin-1')\n",
        "df.head()"
      ],
      "metadata": {
        "id": "iHN4XGtYdxnu",
        "colab": {
          "base_uri": "https://localhost:8080/",
          "height": 329
        },
        "outputId": "ba45dd56-80b2-4cef-8e59-1a51320aceab"
      },
      "execution_count": 8,
      "outputs": [
        {
          "output_type": "execute_result",
          "data": {
            "text/plain": [
              "  estado   ano CIRCOBITO   DTOBITO    DTNASC       SEXO RACACOR  \\\n",
              "0     AC  2014  Suicídio  02-01-14  02-07-77  Masculino   Preta   \n",
              "1     AC  2014  Suicídio  23-01-14  30-07-66  Masculino  Branca   \n",
              "2     AC  2014  Suicídio  31-01-14  28-07-43  Masculino  Branca   \n",
              "3     AC  2014  Suicídio  05-02-14  04-07-99  Masculino  Branca   \n",
              "4     AC  2014  Suicídio  06-02-14  02-05-72  Masculino  Branca   \n",
              "\n",
              "             ESTCIV         ESC                             OCUP  \\\n",
              "0            Casado  4 a 7 anos   ATLETA PROFISSIONAL DE FUTEBOL   \n",
              "1  União consensual   12 e mais  MEDICO GINECOLOGISTA E OBSTETRA   \n",
              "2               NaN         NaN                                0   \n",
              "3          Solteiro  4 a 7 anos                        ESTUDANTE   \n",
              "4               NaN         NaN                                0   \n",
              "\n",
              "        CODMUNRES    LOCOCOR ASSISTMED CAUSABAS CAUSABAS_O  idade  mes  \n",
              "0      Rio Branco  Domicílio       Não     X700       X700   37.0    1  \n",
              "1      Rio Branco  Domicílio       Não     X800       X800   48.0    1  \n",
              "2      Rio Branco  Domicílio       Não     X700       X700   71.0    1  \n",
              "3  Epitaciolândia     Outros       Não     X700       X700   15.0    2  \n",
              "4      Rio Branco     Outros       Não     X700       X700   42.0    2  "
            ],
            "text/html": [
              "\n",
              "  <div id=\"df-b066d528-fe65-49e0-b49c-8b849a5b588b\">\n",
              "    <div class=\"colab-df-container\">\n",
              "      <div>\n",
              "<style scoped>\n",
              "    .dataframe tbody tr th:only-of-type {\n",
              "        vertical-align: middle;\n",
              "    }\n",
              "\n",
              "    .dataframe tbody tr th {\n",
              "        vertical-align: top;\n",
              "    }\n",
              "\n",
              "    .dataframe thead th {\n",
              "        text-align: right;\n",
              "    }\n",
              "</style>\n",
              "<table border=\"1\" class=\"dataframe\">\n",
              "  <thead>\n",
              "    <tr style=\"text-align: right;\">\n",
              "      <th></th>\n",
              "      <th>estado</th>\n",
              "      <th>ano</th>\n",
              "      <th>CIRCOBITO</th>\n",
              "      <th>DTOBITO</th>\n",
              "      <th>DTNASC</th>\n",
              "      <th>SEXO</th>\n",
              "      <th>RACACOR</th>\n",
              "      <th>ESTCIV</th>\n",
              "      <th>ESC</th>\n",
              "      <th>OCUP</th>\n",
              "      <th>CODMUNRES</th>\n",
              "      <th>LOCOCOR</th>\n",
              "      <th>ASSISTMED</th>\n",
              "      <th>CAUSABAS</th>\n",
              "      <th>CAUSABAS_O</th>\n",
              "      <th>idade</th>\n",
              "      <th>mes</th>\n",
              "    </tr>\n",
              "  </thead>\n",
              "  <tbody>\n",
              "    <tr>\n",
              "      <th>0</th>\n",
              "      <td>AC</td>\n",
              "      <td>2014</td>\n",
              "      <td>Suicídio</td>\n",
              "      <td>02-01-14</td>\n",
              "      <td>02-07-77</td>\n",
              "      <td>Masculino</td>\n",
              "      <td>Preta</td>\n",
              "      <td>Casado</td>\n",
              "      <td>4 a 7 anos</td>\n",
              "      <td>ATLETA PROFISSIONAL DE FUTEBOL</td>\n",
              "      <td>Rio Branco</td>\n",
              "      <td>Domicílio</td>\n",
              "      <td>Não</td>\n",
              "      <td>X700</td>\n",
              "      <td>X700</td>\n",
              "      <td>37.0</td>\n",
              "      <td>1</td>\n",
              "    </tr>\n",
              "    <tr>\n",
              "      <th>1</th>\n",
              "      <td>AC</td>\n",
              "      <td>2014</td>\n",
              "      <td>Suicídio</td>\n",
              "      <td>23-01-14</td>\n",
              "      <td>30-07-66</td>\n",
              "      <td>Masculino</td>\n",
              "      <td>Branca</td>\n",
              "      <td>União consensual</td>\n",
              "      <td>12 e mais</td>\n",
              "      <td>MEDICO GINECOLOGISTA E OBSTETRA</td>\n",
              "      <td>Rio Branco</td>\n",
              "      <td>Domicílio</td>\n",
              "      <td>Não</td>\n",
              "      <td>X800</td>\n",
              "      <td>X800</td>\n",
              "      <td>48.0</td>\n",
              "      <td>1</td>\n",
              "    </tr>\n",
              "    <tr>\n",
              "      <th>2</th>\n",
              "      <td>AC</td>\n",
              "      <td>2014</td>\n",
              "      <td>Suicídio</td>\n",
              "      <td>31-01-14</td>\n",
              "      <td>28-07-43</td>\n",
              "      <td>Masculino</td>\n",
              "      <td>Branca</td>\n",
              "      <td>NaN</td>\n",
              "      <td>NaN</td>\n",
              "      <td>0</td>\n",
              "      <td>Rio Branco</td>\n",
              "      <td>Domicílio</td>\n",
              "      <td>Não</td>\n",
              "      <td>X700</td>\n",
              "      <td>X700</td>\n",
              "      <td>71.0</td>\n",
              "      <td>1</td>\n",
              "    </tr>\n",
              "    <tr>\n",
              "      <th>3</th>\n",
              "      <td>AC</td>\n",
              "      <td>2014</td>\n",
              "      <td>Suicídio</td>\n",
              "      <td>05-02-14</td>\n",
              "      <td>04-07-99</td>\n",
              "      <td>Masculino</td>\n",
              "      <td>Branca</td>\n",
              "      <td>Solteiro</td>\n",
              "      <td>4 a 7 anos</td>\n",
              "      <td>ESTUDANTE</td>\n",
              "      <td>Epitaciolândia</td>\n",
              "      <td>Outros</td>\n",
              "      <td>Não</td>\n",
              "      <td>X700</td>\n",
              "      <td>X700</td>\n",
              "      <td>15.0</td>\n",
              "      <td>2</td>\n",
              "    </tr>\n",
              "    <tr>\n",
              "      <th>4</th>\n",
              "      <td>AC</td>\n",
              "      <td>2014</td>\n",
              "      <td>Suicídio</td>\n",
              "      <td>06-02-14</td>\n",
              "      <td>02-05-72</td>\n",
              "      <td>Masculino</td>\n",
              "      <td>Branca</td>\n",
              "      <td>NaN</td>\n",
              "      <td>NaN</td>\n",
              "      <td>0</td>\n",
              "      <td>Rio Branco</td>\n",
              "      <td>Outros</td>\n",
              "      <td>Não</td>\n",
              "      <td>X700</td>\n",
              "      <td>X700</td>\n",
              "      <td>42.0</td>\n",
              "      <td>2</td>\n",
              "    </tr>\n",
              "  </tbody>\n",
              "</table>\n",
              "</div>\n",
              "      <button class=\"colab-df-convert\" onclick=\"convertToInteractive('df-b066d528-fe65-49e0-b49c-8b849a5b588b')\"\n",
              "              title=\"Convert this dataframe to an interactive table.\"\n",
              "              style=\"display:none;\">\n",
              "        \n",
              "  <svg xmlns=\"http://www.w3.org/2000/svg\" height=\"24px\"viewBox=\"0 0 24 24\"\n",
              "       width=\"24px\">\n",
              "    <path d=\"M0 0h24v24H0V0z\" fill=\"none\"/>\n",
              "    <path d=\"M18.56 5.44l.94 2.06.94-2.06 2.06-.94-2.06-.94-.94-2.06-.94 2.06-2.06.94zm-11 1L8.5 8.5l.94-2.06 2.06-.94-2.06-.94L8.5 2.5l-.94 2.06-2.06.94zm10 10l.94 2.06.94-2.06 2.06-.94-2.06-.94-.94-2.06-.94 2.06-2.06.94z\"/><path d=\"M17.41 7.96l-1.37-1.37c-.4-.4-.92-.59-1.43-.59-.52 0-1.04.2-1.43.59L10.3 9.45l-7.72 7.72c-.78.78-.78 2.05 0 2.83L4 21.41c.39.39.9.59 1.41.59.51 0 1.02-.2 1.41-.59l7.78-7.78 2.81-2.81c.8-.78.8-2.07 0-2.86zM5.41 20L4 18.59l7.72-7.72 1.47 1.35L5.41 20z\"/>\n",
              "  </svg>\n",
              "      </button>\n",
              "      \n",
              "  <style>\n",
              "    .colab-df-container {\n",
              "      display:flex;\n",
              "      flex-wrap:wrap;\n",
              "      gap: 12px;\n",
              "    }\n",
              "\n",
              "    .colab-df-convert {\n",
              "      background-color: #E8F0FE;\n",
              "      border: none;\n",
              "      border-radius: 50%;\n",
              "      cursor: pointer;\n",
              "      display: none;\n",
              "      fill: #1967D2;\n",
              "      height: 32px;\n",
              "      padding: 0 0 0 0;\n",
              "      width: 32px;\n",
              "    }\n",
              "\n",
              "    .colab-df-convert:hover {\n",
              "      background-color: #E2EBFA;\n",
              "      box-shadow: 0px 1px 2px rgba(60, 64, 67, 0.3), 0px 1px 3px 1px rgba(60, 64, 67, 0.15);\n",
              "      fill: #174EA6;\n",
              "    }\n",
              "\n",
              "    [theme=dark] .colab-df-convert {\n",
              "      background-color: #3B4455;\n",
              "      fill: #D2E3FC;\n",
              "    }\n",
              "\n",
              "    [theme=dark] .colab-df-convert:hover {\n",
              "      background-color: #434B5C;\n",
              "      box-shadow: 0px 1px 3px 1px rgba(0, 0, 0, 0.15);\n",
              "      filter: drop-shadow(0px 1px 2px rgba(0, 0, 0, 0.3));\n",
              "      fill: #FFFFFF;\n",
              "    }\n",
              "  </style>\n",
              "\n",
              "      <script>\n",
              "        const buttonEl =\n",
              "          document.querySelector('#df-b066d528-fe65-49e0-b49c-8b849a5b588b button.colab-df-convert');\n",
              "        buttonEl.style.display =\n",
              "          google.colab.kernel.accessAllowed ? 'block' : 'none';\n",
              "\n",
              "        async function convertToInteractive(key) {\n",
              "          const element = document.querySelector('#df-b066d528-fe65-49e0-b49c-8b849a5b588b');\n",
              "          const dataTable =\n",
              "            await google.colab.kernel.invokeFunction('convertToInteractive',\n",
              "                                                     [key], {});\n",
              "          if (!dataTable) return;\n",
              "\n",
              "          const docLinkHtml = 'Like what you see? Visit the ' +\n",
              "            '<a target=\"_blank\" href=https://colab.research.google.com/notebooks/data_table.ipynb>data table notebook</a>'\n",
              "            + ' to learn more about interactive tables.';\n",
              "          element.innerHTML = '';\n",
              "          dataTable['output_type'] = 'display_data';\n",
              "          await google.colab.output.renderOutput(dataTable, element);\n",
              "          const docLink = document.createElement('div');\n",
              "          docLink.innerHTML = docLinkHtml;\n",
              "          element.appendChild(docLink);\n",
              "        }\n",
              "      </script>\n",
              "    </div>\n",
              "  </div>\n",
              "  "
            ]
          },
          "metadata": {},
          "execution_count": 8
        }
      ]
    },
    {
      "cell_type": "markdown",
      "source": [
        "## Dados e suas respectivas categorias:\n",
        "\n",
        "* Qualitativas nominais: ESTADO, SEXO, FAIXA_ETARIA e RACA_COR são variáveis categóricas que não possuem uma ordem natural ou hierarquia.\n",
        "* Qualitativas ordinais: não há variáveis qualitativas ordinais nesse conjunto de dados.\n",
        "* Quantitativas contínuas: não há variáveis quantitativas contínuas nesse conjunto de dados.\n",
        "* Quantitativas discretas: ANO e TOTAL são variáveis numéricas discretas que representam o ano e o número de suicídios registrados, respectivamente."
      ],
      "metadata": {
        "id": "TBQiopyA6YFW"
      }
    },
    {
      "cell_type": "markdown",
      "source": [
        "## Série temporal de suícidio por ano:"
      ],
      "metadata": {
        "id": "8XN7NgFU_EcX"
      }
    },
    {
      "cell_type": "code",
      "source": [
        "# Agrupa o conjunto de dados por ano e conta o número de suicídios\n",
        "suicides_by_year = df.groupby('ano').size()\n",
        "\n",
        "# Plota um gráfico de linha com os dados\n",
        "suicides_by_year.plot(kind='line', title='Número de óbitos por suicídio no Brasil (2014-2018)')\n",
        "plt.xlabel('Ano')\n",
        "plt.ylabel('Número de óbitos')\n",
        "plt.show()\n"
      ],
      "metadata": {
        "colab": {
          "base_uri": "https://localhost:8080/",
          "height": 472
        },
        "id": "PDXM2J2rrQX4",
        "outputId": "fa6bf4d4-3228-43fd-c0a7-99fe1268ac81"
      },
      "execution_count": 15,
      "outputs": [
        {
          "output_type": "display_data",
          "data": {
            "text/plain": [
              "<Figure size 640x480 with 1 Axes>"
            ],
            "image/png": "[encoded data removed]"
          },
          "metadata": {}
        }
      ]
    },
    {
      "cell_type": "markdown",
      "source": [
        "## Distribuição da idade de pessoas que cometeram suicídio:"
      ],
      "metadata": {
        "id": "iGQN0oyq_PHC"
      }
    },
    {
      "cell_type": "code",
      "source": [
        "# Filtra as linhas em que houve suicídio\n",
        "df_suicide = df[df['CIRCOBITO'] == 'Suicídio']\n",
        "\n",
        "# Plota um histograma da idade das pessoas que cometeram suicídio\n",
        "plt.hist(df_suicide['idade'], bins=50)\n",
        "plt.title('Distribuição da idade das pessoas que cometeram suicídio')\n",
        "plt.xlabel('Idade')\n",
        "plt.ylabel('Frequência')\n",
        "plt.show()\n"
      ],
      "metadata": {
        "colab": {
          "base_uri": "https://localhost:8080/",
          "height": 472
        },
        "id": "p9KzET3NYzxN",
        "outputId": "fa859ace-6eba-411e-bb3f-a5fd41aba751"
      },
      "execution_count": 38,
      "outputs": [
        {
          "output_type": "display_data",
          "data": {
            "text/plain": [
              "<Figure size 640x480 with 1 Axes>"
            ],
            "image/png": "[encoded data removed]"
          },
          "metadata": {}
        }
      ]
    },
    {
      "cell_type": "markdown",
      "source": [
        "## Tendência Centrais sobre de Suícido em geral:"
      ],
      "metadata": {
        "id": "X_7wspYD9uYf"
      }
    },
    {
      "cell_type": "code",
      "source": [
        "# Filtra as linhas em que houve suicídio\n",
        "df_suicide = df[df['CIRCOBITO'] == 'Suicídio']\n",
        "\n",
        "# Verifica se há dados na coluna \"idade\" do DataFrame \"df_suicide\"\n",
        "if not df_suicide['idade'].empty:\n",
        "    # Calcula as estatísticas da idade das pessoas que cometeram suicídio\n",
        "    min_age = df_suicide['idade'].min()\n",
        "    max_age = df_suicide['idade'].max()\n",
        "    mean_age = df_suicide['idade'].mean()\n",
        "    median_age = df_suicide['idade'].median()\n",
        "    mode_age = df_suicide['idade'].mode()[0]\n",
        "    std_age = df_suicide['idade'].std()\n",
        "    var_age = df_suicide['idade'].var()\n",
        "    \n",
        "    # Imprime as estatísticas\n",
        "    print('Mínimo:', min_age)\n",
        "    print('Máximo:', max_age)\n",
        "    print('Média:', mean_age)\n",
        "    print('Mediana:', median_age)\n",
        "    print('Moda:', mode_age)\n",
        "    print('Desvio padrão:', std_age)\n",
        "    print('Variância:', var_age)\n",
        "else:\n",
        "    print('Não há dados na coluna \"idade\" para este filtro.')\n",
        "\n"
      ],
      "metadata": {
        "colab": {
          "base_uri": "https://localhost:8080/"
        },
        "id": "8ztj3Aq0ZmiI",
        "outputId": "ff948201-e33d-46fb-d73d-662335cae6a9"
      },
      "execution_count": 44,
      "outputs": [
        {
          "output_type": "stream",
          "name": "stdout",
          "text": [
            "Mínimo: 0.0\n",
            "Máximo: 113.0\n",
            "Média: 42.607967291410375\n",
            "Mediana: 41.0\n",
            "Moda: 33.0\n",
            "Desvio padrão: 17.36934851322714\n",
            "Variância: 301.6942677739459\n"
          ]
        }
      ]
    },
    {
      "cell_type": "markdown",
      "source": [
        "## Tendência Centrais sobre Suícido de Pessoas da Cor Preta:"
      ],
      "metadata": {
        "id": "v0S9ibbP90C1"
      }
    },
    {
      "cell_type": "code",
      "source": [
        "# Filtra as linhas em que RACACOR é igual a \"Preta\"\n",
        "df_preta = df[df['RACACOR'] == 'Preta']\n",
        "\n",
        "# Calcula as estatísticas resumidas\n",
        "min_preta = df_preta['idade'].min()\n",
        "max_preta = df_preta['idade'].max()\n",
        "mean_preta = df_preta['idade'].mean()\n",
        "median_preta = df_preta['idade'].median()\n",
        "mode_preta = df_preta['idade'].mode()[0]\n",
        "std_preta = df_preta['idade'].std()\n",
        "var_preta = df_preta['idade'].var()\n",
        "\n",
        "# Imprime as estatísticas resumidas\n",
        "print(f'Mínimo: {min_preta}')\n",
        "print(f'Máximo: {max_preta}')\n",
        "print(f'Média: {mean_preta:.2f}')\n",
        "print(f'Mediana: {median_preta}')\n",
        "print(f'Moda: {mode_preta}')\n",
        "print(f'Desvio padrão: {std_preta:.2f}')\n",
        "print(f'Variância: {var_preta:.2f}')\n"
      ],
      "metadata": {
        "colab": {
          "base_uri": "https://localhost:8080/"
        },
        "id": "M2anc4Vh85SE",
        "outputId": "15989568-9a44-4c59-bd7e-8610d1fced15"
      },
      "execution_count": 43,
      "outputs": [
        {
          "output_type": "stream",
          "name": "stdout",
          "text": [
            "Mínimo: 10.0\n",
            "Máximo: 103.0\n",
            "Média: 40.02\n",
            "Mediana: 38.0\n",
            "Moda: 30.0\n",
            "Desvio padrão: 15.70\n",
            "Variância: 246.36\n"
          ]
        }
      ]
    },
    {
      "cell_type": "code",
      "source": [
        "# Filtra as linhas em que RACACOR é igual a \"Branca\"\n",
        "df_preta = df[df['RACACOR'] == 'Branca']\n",
        "\n",
        "# Calcula as estatísticas resumidas\n",
        "min_preta = df_preta['idade'].min()\n",
        "max_preta = df_preta['idade'].max()\n",
        "mean_preta = df_preta['idade'].mean()\n",
        "median_preta = df_preta['idade'].median()\n",
        "mode_preta = df_preta['idade'].mode()[0]\n",
        "std_preta = df_preta['idade'].std()\n",
        "var_preta = df_preta['idade'].var()\n",
        "\n",
        "# Imprime as estatísticas resumidas\n",
        "print(f'Mínimo: {min_preta}')\n",
        "print(f'Máximo: {max_preta}')\n",
        "print(f'Média: {mean_preta:.2f}')\n",
        "print(f'Mediana: {median_preta}')\n",
        "print(f'Moda: {mode_preta}')\n",
        "print(f'Desvio padrão: {std_preta:.2f}')\n",
        "print(f'Variância: {var_preta:.2f}')"
      ],
      "metadata": {
        "colab": {
          "base_uri": "https://localhost:8080/"
        },
        "id": "Z9ZZMBMxBLO-",
        "outputId": "bb25ee2d-c661-40d1-e478-8b7ae3a4d068"
      },
      "execution_count": 46,
      "outputs": [
        {
          "output_type": "stream",
          "name": "stdout",
          "text": [
            "Mínimo: 2.0\n",
            "Máximo: 113.0\n",
            "Média: 45.56\n",
            "Mediana: 45.0\n",
            "Moda: 47.0\n",
            "Desvio padrão: 17.66\n",
            "Variância: 311.80\n"
          ]
        }
      ]
    },
    {
      "cell_type": "markdown",
      "source": [
        "## Conclusão:\n",
        "\n",
        "A análise exploratória dos dados do conjunto de dados de suicídio no Brasil entre 2014 e 2018 permite algumas conclusões:\n",
        "\n",
        "* O número de suicídios aumentou entre 2014 e 2018 no Brasil.\n",
        "\n",
        "* A maioria dos suicídios ocorreu em homens.\n",
        "\n",
        "* A faixa etária com maior número de suicídios foi entre 18 e 60 anos.\n",
        "\n",
        "* A raça/cor mais comum entre as pessoas que cometeram suicídio é a branca.\n",
        "\n",
        "* A maioria dos casos de suicídio ocorreu por enforcamento.\n",
        "\n",
        "* Os meses de dezembro, janeiro e fevereiro tiveram um número maior de casos de suicídio em comparação com outros meses.\n",
        "\n",
        "* O estado com maior número de casos de suicídio é São Paulo."
      ],
      "metadata": {
        "id": "ZGCfyrKlAsKH"
      }
    }
  ]
}